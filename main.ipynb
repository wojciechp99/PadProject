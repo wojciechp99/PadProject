{
 "cells": [
  {
   "cell_type": "code",
   "execution_count": 1,
   "metadata": {},
   "outputs": [
    {
     "name": "stderr",
     "output_type": "stream",
     "text": [
      "C:\\Users\\wojtek\\AppData\\Local\\Temp\\ipykernel_24384\\3208141335.py:5: ParserWarning: Falling back to the 'python' engine because the 'c' engine does not support regex separators (separators > 1 char and different from '\\s+' are interpreted as regex); you can avoid this warning by specifying engine='python'.\n",
      "  df = pd.read_csv('messy_data.csv', sep=', ')\n"
     ]
    },
    {
     "data": {
      "text/html": [
       "<div>\n",
       "<style scoped>\n",
       "    .dataframe tbody tr th:only-of-type {\n",
       "        vertical-align: middle;\n",
       "    }\n",
       "\n",
       "    .dataframe tbody tr th {\n",
       "        vertical-align: top;\n",
       "    }\n",
       "\n",
       "    .dataframe thead th {\n",
       "        text-align: right;\n",
       "    }\n",
       "</style>\n",
       "<table border=\"1\" class=\"dataframe\">\n",
       "  <thead>\n",
       "    <tr style=\"text-align: right;\">\n",
       "      <th></th>\n",
       "      <th>carat</th>\n",
       "      <th>clarity</th>\n",
       "      <th>color</th>\n",
       "      <th>cut</th>\n",
       "      <th>x dimension</th>\n",
       "      <th>y dimension</th>\n",
       "      <th>z dimension</th>\n",
       "      <th>depth</th>\n",
       "      <th>table</th>\n",
       "      <th>price</th>\n",
       "    </tr>\n",
       "  </thead>\n",
       "  <tbody>\n",
       "    <tr>\n",
       "      <th>0</th>\n",
       "      <td>0.50</td>\n",
       "      <td>IF</td>\n",
       "      <td>D</td>\n",
       "      <td>Ideal</td>\n",
       "      <td>5.1</td>\n",
       "      <td>5.15</td>\n",
       "      <td>3.20</td>\n",
       "      <td>61.5</td>\n",
       "      <td>NaN</td>\n",
       "      <td>3000.0</td>\n",
       "    </tr>\n",
       "    <tr>\n",
       "      <th>1</th>\n",
       "      <td>0.70</td>\n",
       "      <td>vvs2</td>\n",
       "      <td>E</td>\n",
       "      <td>premium</td>\n",
       "      <td>5.7</td>\n",
       "      <td>NaN</td>\n",
       "      <td>3.52</td>\n",
       "      <td>62.0</td>\n",
       "      <td>59</td>\n",
       "      <td>4500.0</td>\n",
       "    </tr>\n",
       "    <tr>\n",
       "      <th>2</th>\n",
       "      <td>NaN</td>\n",
       "      <td>Si2</td>\n",
       "      <td>h</td>\n",
       "      <td>Good</td>\n",
       "      <td>4.3</td>\n",
       "      <td>4.31</td>\n",
       "      <td>NaN</td>\n",
       "      <td>62.3</td>\n",
       "      <td>56</td>\n",
       "      <td>700.0</td>\n",
       "    </tr>\n",
       "    <tr>\n",
       "      <th>3</th>\n",
       "      <td>1.20</td>\n",
       "      <td>if</td>\n",
       "      <td>d</td>\n",
       "      <td>ideal</td>\n",
       "      <td>NaN</td>\n",
       "      <td>6.82</td>\n",
       "      <td>4.20</td>\n",
       "      <td>61.7</td>\n",
       "      <td>58</td>\n",
       "      <td>10000.0</td>\n",
       "    </tr>\n",
       "    <tr>\n",
       "      <th>4</th>\n",
       "      <td>0.90</td>\n",
       "      <td>I1</td>\n",
       "      <td>J</td>\n",
       "      <td>Fair</td>\n",
       "      <td>6.0</td>\n",
       "      <td>NaN</td>\n",
       "      <td>3.70</td>\n",
       "      <td>61.7</td>\n",
       "      <td>NaN</td>\n",
       "      <td>2400.0</td>\n",
       "    </tr>\n",
       "    <tr>\n",
       "      <th>...</th>\n",
       "      <td>...</td>\n",
       "      <td>...</td>\n",
       "      <td>...</td>\n",
       "      <td>...</td>\n",
       "      <td>...</td>\n",
       "      <td>...</td>\n",
       "      <td>...</td>\n",
       "      <td>...</td>\n",
       "      <td>...</td>\n",
       "      <td>...</td>\n",
       "    </tr>\n",
       "    <tr>\n",
       "      <th>195</th>\n",
       "      <td>0.45</td>\n",
       "      <td>si1</td>\n",
       "      <td>F</td>\n",
       "      <td>very good</td>\n",
       "      <td>4.9</td>\n",
       "      <td>4.89</td>\n",
       "      <td>NaN</td>\n",
       "      <td>62.4</td>\n",
       "      <td>59</td>\n",
       "      <td>2300.0</td>\n",
       "    </tr>\n",
       "    <tr>\n",
       "      <th>196</th>\n",
       "      <td>1.25</td>\n",
       "      <td>VVS2</td>\n",
       "      <td>H</td>\n",
       "      <td>Good</td>\n",
       "      <td>6.9</td>\n",
       "      <td>NaN</td>\n",
       "      <td>4.27</td>\n",
       "      <td>NaN</td>\n",
       "      <td>55</td>\n",
       "      <td>10400.0</td>\n",
       "    </tr>\n",
       "    <tr>\n",
       "      <th>197</th>\n",
       "      <td>0.55</td>\n",
       "      <td>i1</td>\n",
       "      <td>I</td>\n",
       "      <td>Premium</td>\n",
       "      <td>5.3</td>\n",
       "      <td>NaN</td>\n",
       "      <td>3.28</td>\n",
       "      <td>62.3</td>\n",
       "      <td>57</td>\n",
       "      <td>150000.0</td>\n",
       "    </tr>\n",
       "    <tr>\n",
       "      <th>198</th>\n",
       "      <td>0.85</td>\n",
       "      <td>Si2</td>\n",
       "      <td>E</td>\n",
       "      <td>fair</td>\n",
       "      <td>6.1</td>\n",
       "      <td>6.13</td>\n",
       "      <td>3.78</td>\n",
       "      <td>NaN</td>\n",
       "      <td>58</td>\n",
       "      <td>6300.0</td>\n",
       "    </tr>\n",
       "    <tr>\n",
       "      <th>199</th>\n",
       "      <td>NaN</td>\n",
       "      <td>VVS1</td>\n",
       "      <td>G</td>\n",
       "      <td>Very good</td>\n",
       "      <td>6.4</td>\n",
       "      <td>6.43</td>\n",
       "      <td>3.97</td>\n",
       "      <td>62.5</td>\n",
       "      <td>NaN</td>\n",
       "      <td>7500.0</td>\n",
       "    </tr>\n",
       "  </tbody>\n",
       "</table>\n",
       "<p>200 rows × 10 columns</p>\n",
       "</div>"
      ],
      "text/plain": [
       "     carat clarity color        cut  x dimension  y dimension  z dimension  \\\n",
       "0     0.50      IF     D      Ideal          5.1         5.15         3.20   \n",
       "1     0.70    vvs2     E    premium          5.7          NaN         3.52   \n",
       "2      NaN     Si2     h       Good          4.3         4.31          NaN   \n",
       "3     1.20      if     d      ideal          NaN         6.82         4.20   \n",
       "4     0.90      I1     J       Fair          6.0          NaN         3.70   \n",
       "..     ...     ...   ...        ...          ...          ...          ...   \n",
       "195   0.45     si1     F  very good          4.9         4.89          NaN   \n",
       "196   1.25    VVS2     H       Good          6.9          NaN         4.27   \n",
       "197   0.55      i1     I    Premium          5.3          NaN         3.28   \n",
       "198   0.85     Si2     E       fair          6.1         6.13         3.78   \n",
       "199    NaN    VVS1     G  Very good          6.4         6.43         3.97   \n",
       "\n",
       "     depth table     price  \n",
       "0     61.5   NaN    3000.0  \n",
       "1     62.0    59    4500.0  \n",
       "2     62.3    56     700.0  \n",
       "3     61.7    58   10000.0  \n",
       "4     61.7   NaN    2400.0  \n",
       "..     ...   ...       ...  \n",
       "195   62.4    59    2300.0  \n",
       "196    NaN    55   10400.0  \n",
       "197   62.3    57  150000.0  \n",
       "198    NaN    58    6300.0  \n",
       "199   62.5   NaN    7500.0  \n",
       "\n",
       "[200 rows x 10 columns]"
      ]
     },
     "execution_count": 1,
     "metadata": {},
     "output_type": "execute_result"
    }
   ],
   "source": [
    "import pandas as pd\n",
    "import numpy as np\n",
    "import matplotlib.pyplot as plt\n",
    "\n",
    "df = pd.read_csv('messy_data.csv', sep=', ')\n",
    "df"
   ]
  },
  {
   "cell_type": "code",
   "execution_count": 2,
   "metadata": {},
   "outputs": [
    {
     "name": "stderr",
     "output_type": "stream",
     "text": [
      "C:\\Users\\wojtek\\AppData\\Local\\Temp\\ipykernel_24384\\3303779087.py:1: FutureWarning: DataFrame.fillna with 'method' is deprecated and will raise in a future version. Use obj.ffill() or obj.bfill() instead.\n",
      "  df.fillna(method='ffill', inplace=True)\n"
     ]
    },
    {
     "data": {
      "text/html": [
       "<div>\n",
       "<style scoped>\n",
       "    .dataframe tbody tr th:only-of-type {\n",
       "        vertical-align: middle;\n",
       "    }\n",
       "\n",
       "    .dataframe tbody tr th {\n",
       "        vertical-align: top;\n",
       "    }\n",
       "\n",
       "    .dataframe thead th {\n",
       "        text-align: right;\n",
       "    }\n",
       "</style>\n",
       "<table border=\"1\" class=\"dataframe\">\n",
       "  <thead>\n",
       "    <tr style=\"text-align: right;\">\n",
       "      <th></th>\n",
       "      <th>carat</th>\n",
       "      <th>clarity</th>\n",
       "      <th>color</th>\n",
       "      <th>cut</th>\n",
       "      <th>x dimension</th>\n",
       "      <th>y dimension</th>\n",
       "      <th>z dimension</th>\n",
       "      <th>depth</th>\n",
       "      <th>table</th>\n",
       "      <th>price</th>\n",
       "    </tr>\n",
       "  </thead>\n",
       "  <tbody>\n",
       "    <tr>\n",
       "      <th>0</th>\n",
       "      <td>0.50</td>\n",
       "      <td>IF</td>\n",
       "      <td>D</td>\n",
       "      <td>Ideal</td>\n",
       "      <td>5.1</td>\n",
       "      <td>5.15</td>\n",
       "      <td>3.20</td>\n",
       "      <td>61.5</td>\n",
       "      <td>NaN</td>\n",
       "      <td>3000.0</td>\n",
       "    </tr>\n",
       "    <tr>\n",
       "      <th>1</th>\n",
       "      <td>0.70</td>\n",
       "      <td>vvs2</td>\n",
       "      <td>E</td>\n",
       "      <td>premium</td>\n",
       "      <td>5.7</td>\n",
       "      <td>5.15</td>\n",
       "      <td>3.52</td>\n",
       "      <td>62.0</td>\n",
       "      <td>59</td>\n",
       "      <td>4500.0</td>\n",
       "    </tr>\n",
       "    <tr>\n",
       "      <th>2</th>\n",
       "      <td>0.70</td>\n",
       "      <td>Si2</td>\n",
       "      <td>h</td>\n",
       "      <td>Good</td>\n",
       "      <td>4.3</td>\n",
       "      <td>4.31</td>\n",
       "      <td>3.52</td>\n",
       "      <td>62.3</td>\n",
       "      <td>56</td>\n",
       "      <td>700.0</td>\n",
       "    </tr>\n",
       "    <tr>\n",
       "      <th>3</th>\n",
       "      <td>1.20</td>\n",
       "      <td>if</td>\n",
       "      <td>d</td>\n",
       "      <td>ideal</td>\n",
       "      <td>4.3</td>\n",
       "      <td>6.82</td>\n",
       "      <td>4.20</td>\n",
       "      <td>61.7</td>\n",
       "      <td>58</td>\n",
       "      <td>10000.0</td>\n",
       "    </tr>\n",
       "    <tr>\n",
       "      <th>4</th>\n",
       "      <td>0.90</td>\n",
       "      <td>I1</td>\n",
       "      <td>J</td>\n",
       "      <td>Fair</td>\n",
       "      <td>6.0</td>\n",
       "      <td>6.82</td>\n",
       "      <td>3.70</td>\n",
       "      <td>61.7</td>\n",
       "      <td>58</td>\n",
       "      <td>2400.0</td>\n",
       "    </tr>\n",
       "    <tr>\n",
       "      <th>...</th>\n",
       "      <td>...</td>\n",
       "      <td>...</td>\n",
       "      <td>...</td>\n",
       "      <td>...</td>\n",
       "      <td>...</td>\n",
       "      <td>...</td>\n",
       "      <td>...</td>\n",
       "      <td>...</td>\n",
       "      <td>...</td>\n",
       "      <td>...</td>\n",
       "    </tr>\n",
       "    <tr>\n",
       "      <th>195</th>\n",
       "      <td>0.45</td>\n",
       "      <td>si1</td>\n",
       "      <td>F</td>\n",
       "      <td>very good</td>\n",
       "      <td>4.9</td>\n",
       "      <td>4.89</td>\n",
       "      <td>3.96</td>\n",
       "      <td>62.4</td>\n",
       "      <td>59</td>\n",
       "      <td>2300.0</td>\n",
       "    </tr>\n",
       "    <tr>\n",
       "      <th>196</th>\n",
       "      <td>1.25</td>\n",
       "      <td>VVS2</td>\n",
       "      <td>H</td>\n",
       "      <td>Good</td>\n",
       "      <td>6.9</td>\n",
       "      <td>4.89</td>\n",
       "      <td>4.27</td>\n",
       "      <td>62.4</td>\n",
       "      <td>55</td>\n",
       "      <td>10400.0</td>\n",
       "    </tr>\n",
       "    <tr>\n",
       "      <th>197</th>\n",
       "      <td>0.55</td>\n",
       "      <td>i1</td>\n",
       "      <td>I</td>\n",
       "      <td>Premium</td>\n",
       "      <td>5.3</td>\n",
       "      <td>4.89</td>\n",
       "      <td>3.28</td>\n",
       "      <td>62.3</td>\n",
       "      <td>57</td>\n",
       "      <td>150000.0</td>\n",
       "    </tr>\n",
       "    <tr>\n",
       "      <th>198</th>\n",
       "      <td>0.85</td>\n",
       "      <td>Si2</td>\n",
       "      <td>E</td>\n",
       "      <td>fair</td>\n",
       "      <td>6.1</td>\n",
       "      <td>6.13</td>\n",
       "      <td>3.78</td>\n",
       "      <td>62.3</td>\n",
       "      <td>58</td>\n",
       "      <td>6300.0</td>\n",
       "    </tr>\n",
       "    <tr>\n",
       "      <th>199</th>\n",
       "      <td>0.85</td>\n",
       "      <td>VVS1</td>\n",
       "      <td>G</td>\n",
       "      <td>Very good</td>\n",
       "      <td>6.4</td>\n",
       "      <td>6.43</td>\n",
       "      <td>3.97</td>\n",
       "      <td>62.5</td>\n",
       "      <td>58</td>\n",
       "      <td>7500.0</td>\n",
       "    </tr>\n",
       "  </tbody>\n",
       "</table>\n",
       "<p>200 rows × 10 columns</p>\n",
       "</div>"
      ],
      "text/plain": [
       "     carat clarity color        cut  x dimension  y dimension  z dimension  \\\n",
       "0     0.50      IF     D      Ideal          5.1         5.15         3.20   \n",
       "1     0.70    vvs2     E    premium          5.7         5.15         3.52   \n",
       "2     0.70     Si2     h       Good          4.3         4.31         3.52   \n",
       "3     1.20      if     d      ideal          4.3         6.82         4.20   \n",
       "4     0.90      I1     J       Fair          6.0         6.82         3.70   \n",
       "..     ...     ...   ...        ...          ...          ...          ...   \n",
       "195   0.45     si1     F  very good          4.9         4.89         3.96   \n",
       "196   1.25    VVS2     H       Good          6.9         4.89         4.27   \n",
       "197   0.55      i1     I    Premium          5.3         4.89         3.28   \n",
       "198   0.85     Si2     E       fair          6.1         6.13         3.78   \n",
       "199   0.85    VVS1     G  Very good          6.4         6.43         3.97   \n",
       "\n",
       "     depth table     price  \n",
       "0     61.5   NaN    3000.0  \n",
       "1     62.0    59    4500.0  \n",
       "2     62.3    56     700.0  \n",
       "3     61.7    58   10000.0  \n",
       "4     61.7    58    2400.0  \n",
       "..     ...   ...       ...  \n",
       "195   62.4    59    2300.0  \n",
       "196   62.4    55   10400.0  \n",
       "197   62.3    57  150000.0  \n",
       "198   62.3    58    6300.0  \n",
       "199   62.5    58    7500.0  \n",
       "\n",
       "[200 rows x 10 columns]"
      ]
     },
     "execution_count": 2,
     "metadata": {},
     "output_type": "execute_result"
    }
   ],
   "source": [
    "df.fillna(method='ffill', inplace=True)\n",
    "df"
   ]
  },
  {
   "cell_type": "code",
   "execution_count": 3,
   "metadata": {},
   "outputs": [
    {
     "data": {
      "text/plain": [
       "carat          0\n",
       "clarity        0\n",
       "color          0\n",
       "cut            0\n",
       "x dimension    0\n",
       "y dimension    0\n",
       "z dimension    0\n",
       "depth          0\n",
       "table          5\n",
       "price          0\n",
       "dtype: int64"
      ]
     },
     "execution_count": 3,
     "metadata": {},
     "output_type": "execute_result"
    }
   ],
   "source": [
    "df['table'] = pd.to_numeric(df['table'], errors='coerce')\n",
    "df.isna().sum()"
   ]
  },
  {
   "cell_type": "code",
   "execution_count": 4,
   "metadata": {},
   "outputs": [
    {
     "name": "stderr",
     "output_type": "stream",
     "text": [
      "C:\\Users\\wojtek\\AppData\\Local\\Temp\\ipykernel_24384\\1136267869.py:1: FutureWarning: A value is trying to be set on a copy of a DataFrame or Series through chained assignment using an inplace method.\n",
      "The behavior will change in pandas 3.0. This inplace method will never work because the intermediate object on which we are setting values always behaves as a copy.\n",
      "\n",
      "For example, when doing 'df[col].method(value, inplace=True)', try using 'df.method({col: value}, inplace=True)' or df[col] = df[col].method(value) instead, to perform the operation inplace on the original object.\n",
      "\n",
      "\n",
      "  df['table'].replace(np.nan, 58, inplace=True)\n"
     ]
    },
    {
     "data": {
      "text/html": [
       "<div>\n",
       "<style scoped>\n",
       "    .dataframe tbody tr th:only-of-type {\n",
       "        vertical-align: middle;\n",
       "    }\n",
       "\n",
       "    .dataframe tbody tr th {\n",
       "        vertical-align: top;\n",
       "    }\n",
       "\n",
       "    .dataframe thead th {\n",
       "        text-align: right;\n",
       "    }\n",
       "</style>\n",
       "<table border=\"1\" class=\"dataframe\">\n",
       "  <thead>\n",
       "    <tr style=\"text-align: right;\">\n",
       "      <th></th>\n",
       "      <th>carat</th>\n",
       "      <th>clarity</th>\n",
       "      <th>color</th>\n",
       "      <th>cut</th>\n",
       "      <th>x dimension</th>\n",
       "      <th>y dimension</th>\n",
       "      <th>z dimension</th>\n",
       "      <th>depth</th>\n",
       "      <th>table</th>\n",
       "      <th>price</th>\n",
       "    </tr>\n",
       "  </thead>\n",
       "  <tbody>\n",
       "    <tr>\n",
       "      <th>0</th>\n",
       "      <td>0.50</td>\n",
       "      <td>if</td>\n",
       "      <td>d</td>\n",
       "      <td>ideal</td>\n",
       "      <td>5.1</td>\n",
       "      <td>5.15</td>\n",
       "      <td>3.20</td>\n",
       "      <td>61.5</td>\n",
       "      <td>58.0</td>\n",
       "      <td>3000.0</td>\n",
       "    </tr>\n",
       "    <tr>\n",
       "      <th>1</th>\n",
       "      <td>0.70</td>\n",
       "      <td>vvs2</td>\n",
       "      <td>e</td>\n",
       "      <td>premium</td>\n",
       "      <td>5.7</td>\n",
       "      <td>5.15</td>\n",
       "      <td>3.52</td>\n",
       "      <td>62.0</td>\n",
       "      <td>59.0</td>\n",
       "      <td>4500.0</td>\n",
       "    </tr>\n",
       "    <tr>\n",
       "      <th>2</th>\n",
       "      <td>0.70</td>\n",
       "      <td>si2</td>\n",
       "      <td>h</td>\n",
       "      <td>good</td>\n",
       "      <td>4.3</td>\n",
       "      <td>4.31</td>\n",
       "      <td>3.52</td>\n",
       "      <td>62.3</td>\n",
       "      <td>56.0</td>\n",
       "      <td>700.0</td>\n",
       "    </tr>\n",
       "    <tr>\n",
       "      <th>3</th>\n",
       "      <td>1.20</td>\n",
       "      <td>if</td>\n",
       "      <td>d</td>\n",
       "      <td>ideal</td>\n",
       "      <td>4.3</td>\n",
       "      <td>6.82</td>\n",
       "      <td>4.20</td>\n",
       "      <td>61.7</td>\n",
       "      <td>58.0</td>\n",
       "      <td>10000.0</td>\n",
       "    </tr>\n",
       "    <tr>\n",
       "      <th>4</th>\n",
       "      <td>0.90</td>\n",
       "      <td>i1</td>\n",
       "      <td>j</td>\n",
       "      <td>fair</td>\n",
       "      <td>6.0</td>\n",
       "      <td>6.82</td>\n",
       "      <td>3.70</td>\n",
       "      <td>61.7</td>\n",
       "      <td>58.0</td>\n",
       "      <td>2400.0</td>\n",
       "    </tr>\n",
       "    <tr>\n",
       "      <th>...</th>\n",
       "      <td>...</td>\n",
       "      <td>...</td>\n",
       "      <td>...</td>\n",
       "      <td>...</td>\n",
       "      <td>...</td>\n",
       "      <td>...</td>\n",
       "      <td>...</td>\n",
       "      <td>...</td>\n",
       "      <td>...</td>\n",
       "      <td>...</td>\n",
       "    </tr>\n",
       "    <tr>\n",
       "      <th>195</th>\n",
       "      <td>0.45</td>\n",
       "      <td>si1</td>\n",
       "      <td>f</td>\n",
       "      <td>very good</td>\n",
       "      <td>4.9</td>\n",
       "      <td>4.89</td>\n",
       "      <td>3.96</td>\n",
       "      <td>62.4</td>\n",
       "      <td>59.0</td>\n",
       "      <td>2300.0</td>\n",
       "    </tr>\n",
       "    <tr>\n",
       "      <th>196</th>\n",
       "      <td>1.25</td>\n",
       "      <td>vvs2</td>\n",
       "      <td>h</td>\n",
       "      <td>good</td>\n",
       "      <td>6.9</td>\n",
       "      <td>4.89</td>\n",
       "      <td>4.27</td>\n",
       "      <td>62.4</td>\n",
       "      <td>55.0</td>\n",
       "      <td>10400.0</td>\n",
       "    </tr>\n",
       "    <tr>\n",
       "      <th>197</th>\n",
       "      <td>0.55</td>\n",
       "      <td>i1</td>\n",
       "      <td>i</td>\n",
       "      <td>premium</td>\n",
       "      <td>5.3</td>\n",
       "      <td>4.89</td>\n",
       "      <td>3.28</td>\n",
       "      <td>62.3</td>\n",
       "      <td>57.0</td>\n",
       "      <td>150000.0</td>\n",
       "    </tr>\n",
       "    <tr>\n",
       "      <th>198</th>\n",
       "      <td>0.85</td>\n",
       "      <td>si2</td>\n",
       "      <td>e</td>\n",
       "      <td>fair</td>\n",
       "      <td>6.1</td>\n",
       "      <td>6.13</td>\n",
       "      <td>3.78</td>\n",
       "      <td>62.3</td>\n",
       "      <td>58.0</td>\n",
       "      <td>6300.0</td>\n",
       "    </tr>\n",
       "    <tr>\n",
       "      <th>199</th>\n",
       "      <td>0.85</td>\n",
       "      <td>vvs1</td>\n",
       "      <td>g</td>\n",
       "      <td>very good</td>\n",
       "      <td>6.4</td>\n",
       "      <td>6.43</td>\n",
       "      <td>3.97</td>\n",
       "      <td>62.5</td>\n",
       "      <td>58.0</td>\n",
       "      <td>7500.0</td>\n",
       "    </tr>\n",
       "  </tbody>\n",
       "</table>\n",
       "<p>200 rows × 10 columns</p>\n",
       "</div>"
      ],
      "text/plain": [
       "     carat clarity color        cut  x dimension  y dimension  z dimension  \\\n",
       "0     0.50      if     d      ideal          5.1         5.15         3.20   \n",
       "1     0.70    vvs2     e    premium          5.7         5.15         3.52   \n",
       "2     0.70     si2     h       good          4.3         4.31         3.52   \n",
       "3     1.20      if     d      ideal          4.3         6.82         4.20   \n",
       "4     0.90      i1     j       fair          6.0         6.82         3.70   \n",
       "..     ...     ...   ...        ...          ...          ...          ...   \n",
       "195   0.45     si1     f  very good          4.9         4.89         3.96   \n",
       "196   1.25    vvs2     h       good          6.9         4.89         4.27   \n",
       "197   0.55      i1     i    premium          5.3         4.89         3.28   \n",
       "198   0.85     si2     e       fair          6.1         6.13         3.78   \n",
       "199   0.85    vvs1     g  very good          6.4         6.43         3.97   \n",
       "\n",
       "     depth  table     price  \n",
       "0     61.5   58.0    3000.0  \n",
       "1     62.0   59.0    4500.0  \n",
       "2     62.3   56.0     700.0  \n",
       "3     61.7   58.0   10000.0  \n",
       "4     61.7   58.0    2400.0  \n",
       "..     ...    ...       ...  \n",
       "195   62.4   59.0    2300.0  \n",
       "196   62.4   55.0   10400.0  \n",
       "197   62.3   57.0  150000.0  \n",
       "198   62.3   58.0    6300.0  \n",
       "199   62.5   58.0    7500.0  \n",
       "\n",
       "[200 rows x 10 columns]"
      ]
     },
     "execution_count": 4,
     "metadata": {},
     "output_type": "execute_result"
    }
   ],
   "source": [
    "df['table'].replace(np.nan, 58, inplace=True)\n",
    "df['clarity'] = df['clarity'].str.lower()\n",
    "df['color'] = df['color'].str.lower()\n",
    "df['cut'] = df['cut'].str.lower()\n",
    "df.drop_duplicates()\n",
    "df"
   ]
  },
  {
   "cell_type": "code",
   "execution_count": 5,
   "metadata": {},
   "outputs": [
    {
     "data": {
      "text/html": [
       "<div>\n",
       "<style scoped>\n",
       "    .dataframe tbody tr th:only-of-type {\n",
       "        vertical-align: middle;\n",
       "    }\n",
       "\n",
       "    .dataframe tbody tr th {\n",
       "        vertical-align: top;\n",
       "    }\n",
       "\n",
       "    .dataframe thead th {\n",
       "        text-align: right;\n",
       "    }\n",
       "</style>\n",
       "<table border=\"1\" class=\"dataframe\">\n",
       "  <thead>\n",
       "    <tr style=\"text-align: right;\">\n",
       "      <th></th>\n",
       "      <th>carat</th>\n",
       "      <th>x dimension</th>\n",
       "      <th>y dimension</th>\n",
       "      <th>z dimension</th>\n",
       "      <th>depth</th>\n",
       "      <th>table</th>\n",
       "      <th>price</th>\n",
       "    </tr>\n",
       "  </thead>\n",
       "  <tbody>\n",
       "    <tr>\n",
       "      <th>count</th>\n",
       "      <td>200.00000</td>\n",
       "      <td>200.000000</td>\n",
       "      <td>200.000000</td>\n",
       "      <td>200.000000</td>\n",
       "      <td>200.000000</td>\n",
       "      <td>200.000000</td>\n",
       "      <td>200.000000</td>\n",
       "    </tr>\n",
       "    <tr>\n",
       "      <th>mean</th>\n",
       "      <td>0.80450</td>\n",
       "      <td>5.878500</td>\n",
       "      <td>5.848250</td>\n",
       "      <td>3.709650</td>\n",
       "      <td>62.312000</td>\n",
       "      <td>57.015000</td>\n",
       "      <td>11248.000000</td>\n",
       "    </tr>\n",
       "    <tr>\n",
       "      <th>std</th>\n",
       "      <td>0.32354</td>\n",
       "      <td>0.773875</td>\n",
       "      <td>0.762084</td>\n",
       "      <td>0.463269</td>\n",
       "      <td>0.336037</td>\n",
       "      <td>1.401641</td>\n",
       "      <td>39685.842899</td>\n",
       "    </tr>\n",
       "    <tr>\n",
       "      <th>min</th>\n",
       "      <td>0.20000</td>\n",
       "      <td>3.900000</td>\n",
       "      <td>3.890000</td>\n",
       "      <td>2.410000</td>\n",
       "      <td>61.200000</td>\n",
       "      <td>54.000000</td>\n",
       "      <td>500.000000</td>\n",
       "    </tr>\n",
       "    <tr>\n",
       "      <th>25%</th>\n",
       "      <td>0.55000</td>\n",
       "      <td>5.300000</td>\n",
       "      <td>5.310000</td>\n",
       "      <td>3.395000</td>\n",
       "      <td>62.100000</td>\n",
       "      <td>56.000000</td>\n",
       "      <td>2600.000000</td>\n",
       "    </tr>\n",
       "    <tr>\n",
       "      <th>50%</th>\n",
       "      <td>0.75000</td>\n",
       "      <td>5.900000</td>\n",
       "      <td>5.880000</td>\n",
       "      <td>3.725000</td>\n",
       "      <td>62.300000</td>\n",
       "      <td>57.000000</td>\n",
       "      <td>4300.000000</td>\n",
       "    </tr>\n",
       "    <tr>\n",
       "      <th>75%</th>\n",
       "      <td>1.05000</td>\n",
       "      <td>6.500000</td>\n",
       "      <td>6.520000</td>\n",
       "      <td>4.090000</td>\n",
       "      <td>62.600000</td>\n",
       "      <td>58.000000</td>\n",
       "      <td>7900.000000</td>\n",
       "    </tr>\n",
       "    <tr>\n",
       "      <th>max</th>\n",
       "      <td>1.60000</td>\n",
       "      <td>7.300000</td>\n",
       "      <td>7.280000</td>\n",
       "      <td>4.500000</td>\n",
       "      <td>63.000000</td>\n",
       "      <td>60.000000</td>\n",
       "      <td>350000.000000</td>\n",
       "    </tr>\n",
       "  </tbody>\n",
       "</table>\n",
       "</div>"
      ],
      "text/plain": [
       "           carat  x dimension  y dimension  z dimension       depth  \\\n",
       "count  200.00000   200.000000   200.000000   200.000000  200.000000   \n",
       "mean     0.80450     5.878500     5.848250     3.709650   62.312000   \n",
       "std      0.32354     0.773875     0.762084     0.463269    0.336037   \n",
       "min      0.20000     3.900000     3.890000     2.410000   61.200000   \n",
       "25%      0.55000     5.300000     5.310000     3.395000   62.100000   \n",
       "50%      0.75000     5.900000     5.880000     3.725000   62.300000   \n",
       "75%      1.05000     6.500000     6.520000     4.090000   62.600000   \n",
       "max      1.60000     7.300000     7.280000     4.500000   63.000000   \n",
       "\n",
       "            table          price  \n",
       "count  200.000000     200.000000  \n",
       "mean    57.015000   11248.000000  \n",
       "std      1.401641   39685.842899  \n",
       "min     54.000000     500.000000  \n",
       "25%     56.000000    2600.000000  \n",
       "50%     57.000000    4300.000000  \n",
       "75%     58.000000    7900.000000  \n",
       "max     60.000000  350000.000000  "
      ]
     },
     "execution_count": 5,
     "metadata": {},
     "output_type": "execute_result"
    }
   ],
   "source": [
    "df.describe()"
   ]
  },
  {
   "cell_type": "code",
   "execution_count": 6,
   "metadata": {},
   "outputs": [
    {
     "data": {
      "text/html": [
       "<div>\n",
       "<style scoped>\n",
       "    .dataframe tbody tr th:only-of-type {\n",
       "        vertical-align: middle;\n",
       "    }\n",
       "\n",
       "    .dataframe tbody tr th {\n",
       "        vertical-align: top;\n",
       "    }\n",
       "\n",
       "    .dataframe thead th {\n",
       "        text-align: right;\n",
       "    }\n",
       "</style>\n",
       "<table border=\"1\" class=\"dataframe\">\n",
       "  <thead>\n",
       "    <tr style=\"text-align: right;\">\n",
       "      <th></th>\n",
       "      <th>carat</th>\n",
       "      <th>x dimension</th>\n",
       "      <th>y dimension</th>\n",
       "      <th>z dimension</th>\n",
       "      <th>depth</th>\n",
       "      <th>table</th>\n",
       "      <th>price</th>\n",
       "    </tr>\n",
       "  </thead>\n",
       "  <tbody>\n",
       "    <tr>\n",
       "      <th>carat</th>\n",
       "      <td>1.000000</td>\n",
       "      <td>0.808709</td>\n",
       "      <td>0.514509</td>\n",
       "      <td>0.634060</td>\n",
       "      <td>0.385440</td>\n",
       "      <td>0.148337</td>\n",
       "      <td>0.166355</td>\n",
       "    </tr>\n",
       "    <tr>\n",
       "      <th>x dimension</th>\n",
       "      <td>0.808709</td>\n",
       "      <td>1.000000</td>\n",
       "      <td>0.614080</td>\n",
       "      <td>0.693478</td>\n",
       "      <td>0.351142</td>\n",
       "      <td>0.232863</td>\n",
       "      <td>0.171997</td>\n",
       "    </tr>\n",
       "    <tr>\n",
       "      <th>y dimension</th>\n",
       "      <td>0.514509</td>\n",
       "      <td>0.614080</td>\n",
       "      <td>1.000000</td>\n",
       "      <td>0.366455</td>\n",
       "      <td>0.199880</td>\n",
       "      <td>0.150567</td>\n",
       "      <td>0.039406</td>\n",
       "    </tr>\n",
       "    <tr>\n",
       "      <th>z dimension</th>\n",
       "      <td>0.634060</td>\n",
       "      <td>0.693478</td>\n",
       "      <td>0.366455</td>\n",
       "      <td>1.000000</td>\n",
       "      <td>0.334895</td>\n",
       "      <td>0.100226</td>\n",
       "      <td>0.135454</td>\n",
       "    </tr>\n",
       "    <tr>\n",
       "      <th>depth</th>\n",
       "      <td>0.385440</td>\n",
       "      <td>0.351142</td>\n",
       "      <td>0.199880</td>\n",
       "      <td>0.334895</td>\n",
       "      <td>1.000000</td>\n",
       "      <td>-0.007852</td>\n",
       "      <td>0.067511</td>\n",
       "    </tr>\n",
       "    <tr>\n",
       "      <th>table</th>\n",
       "      <td>0.148337</td>\n",
       "      <td>0.232863</td>\n",
       "      <td>0.150567</td>\n",
       "      <td>0.100226</td>\n",
       "      <td>-0.007852</td>\n",
       "      <td>1.000000</td>\n",
       "      <td>0.137438</td>\n",
       "    </tr>\n",
       "    <tr>\n",
       "      <th>price</th>\n",
       "      <td>0.166355</td>\n",
       "      <td>0.171997</td>\n",
       "      <td>0.039406</td>\n",
       "      <td>0.135454</td>\n",
       "      <td>0.067511</td>\n",
       "      <td>0.137438</td>\n",
       "      <td>1.000000</td>\n",
       "    </tr>\n",
       "  </tbody>\n",
       "</table>\n",
       "</div>"
      ],
      "text/plain": [
       "                carat  x dimension  y dimension  z dimension     depth  \\\n",
       "carat        1.000000     0.808709     0.514509     0.634060  0.385440   \n",
       "x dimension  0.808709     1.000000     0.614080     0.693478  0.351142   \n",
       "y dimension  0.514509     0.614080     1.000000     0.366455  0.199880   \n",
       "z dimension  0.634060     0.693478     0.366455     1.000000  0.334895   \n",
       "depth        0.385440     0.351142     0.199880     0.334895  1.000000   \n",
       "table        0.148337     0.232863     0.150567     0.100226 -0.007852   \n",
       "price        0.166355     0.171997     0.039406     0.135454  0.067511   \n",
       "\n",
       "                table     price  \n",
       "carat        0.148337  0.166355  \n",
       "x dimension  0.232863  0.171997  \n",
       "y dimension  0.150567  0.039406  \n",
       "z dimension  0.100226  0.135454  \n",
       "depth       -0.007852  0.067511  \n",
       "table        1.000000  0.137438  \n",
       "price        0.137438  1.000000  "
      ]
     },
     "execution_count": 6,
     "metadata": {},
     "output_type": "execute_result"
    }
   ],
   "source": [
    "# KORELACJA\n",
    "import seaborn as sns\n",
    "new_df = df.select_dtypes(include='float64')\n",
    "new_df\n",
    "corr = new_df.corr()\n",
    "corr"
   ]
  },
  {
   "cell_type": "code",
   "execution_count": 7,
   "metadata": {},
   "outputs": [
    {
     "data": {
      "text/plain": [
       "<Axes: >"
      ]
     },
     "execution_count": 7,
     "metadata": {},
     "output_type": "execute_result"
    },
    {
     "data": {
      "image/png": "[encoded data removed]",
      "text/plain": [
       "<Figure size 640x480 with 2 Axes>"
      ]
     },
     "metadata": {},
     "output_type": "display_data"
    }
   ],
   "source": [
    "# HEAT MAP\n",
    "sns.heatmap(data=corr, square=True , annot=True, cbar=True)"
   ]
  },
  {
   "cell_type": "markdown",
   "metadata": {},
   "source": [
    "2. wizualizacja rozkładu zmiennych, zależności ceny od innych zmiennych, liczebność kategorii"
   ]
  },
  {
   "cell_type": "code",
   "execution_count": 8,
   "metadata": {},
   "outputs": [
    {
     "data": {
      "image/png": "[encoded data removed]",
      "text/plain": [
       "<Figure size 1200x800 with 6 Axes>"
      ]
     },
     "metadata": {},
     "output_type": "display_data"
    }
   ],
   "source": [
    "numeric_columns = df.select_dtypes(include=np.number).columns\n",
    "# Ustawiamy wielkość wykresu\n",
    "plt.figure(figsize=(12, 8))\n",
    "\n",
    "# Rysujemy histogramy dla każdej kolumny numerycznej\n",
    "for i, column in enumerate(numeric_columns, 1):\n",
    "    if column == \"price\":\n",
    "        continue\n",
    "    plt.subplot(3, 3, i)\n",
    "    plt.hist(df[column], bins=20, color='skyblue', edgecolor='black')\n",
    "    plt.title(column)\n",
    "\n",
    "# Dostosowujemy ułożenie wykresów\n",
    "plt.tight_layout()\n",
    "\n",
    "# Wyświetlamy wykresy\n",
    "plt.show()"
   ]
  },
  {
   "cell_type": "code",
   "execution_count": 9,
   "metadata": {},
   "outputs": [
    {
     "data": {
      "image/png": "[encoded data removed]",
      "text/plain": [
       "<Figure size 1600x1200 with 7 Axes>"
      ]
     },
     "metadata": {},
     "output_type": "display_data"
    }
   ],
   "source": [
    "# Ustawiamy wielkość wykresu\n",
    "plt.figure(figsize=(16, 12))\n",
    "\n",
    "# Tworzymy wykresy punktowe dla każdej kolumny numerycznej w stosunku do ceny\n",
    "for i, column in enumerate(numeric_columns, 1):\n",
    "    plt.subplot(3, 3, i)\n",
    "    plt.scatter(df[column], df['price'], color='skyblue', alpha=0.5)\n",
    "    plt.xlabel(column)\n",
    "    plt.ylabel('Price')\n",
    "    plt.title(f'Price vs {column}')\n",
    "\n",
    "# Dostosowujemy ułożenie wykresów\n",
    "plt.tight_layout()\n",
    "\n",
    "# Wyświetlamy wykresy\n",
    "plt.show()\n"
   ]
  },
  {
   "cell_type": "code",
   "execution_count": 10,
   "metadata": {},
   "outputs": [
    {
     "data": {
      "text/html": [
       "<div>\n",
       "<style scoped>\n",
       "    .dataframe tbody tr th:only-of-type {\n",
       "        vertical-align: middle;\n",
       "    }\n",
       "\n",
       "    .dataframe tbody tr th {\n",
       "        vertical-align: top;\n",
       "    }\n",
       "\n",
       "    .dataframe thead th {\n",
       "        text-align: right;\n",
       "    }\n",
       "</style>\n",
       "<table border=\"1\" class=\"dataframe\">\n",
       "  <thead>\n",
       "    <tr style=\"text-align: right;\">\n",
       "      <th></th>\n",
       "      <th>carat</th>\n",
       "      <th>clarity</th>\n",
       "      <th>color</th>\n",
       "      <th>cut</th>\n",
       "      <th>x dimension</th>\n",
       "      <th>y dimension</th>\n",
       "      <th>z dimension</th>\n",
       "      <th>depth</th>\n",
       "      <th>table</th>\n",
       "      <th>price</th>\n",
       "    </tr>\n",
       "  </thead>\n",
       "  <tbody>\n",
       "    <tr>\n",
       "      <th>11</th>\n",
       "      <td>0.40</td>\n",
       "      <td>vvs2</td>\n",
       "      <td>g</td>\n",
       "      <td>very good</td>\n",
       "      <td>4.9</td>\n",
       "      <td>4.88</td>\n",
       "      <td>3.21</td>\n",
       "      <td>61.2</td>\n",
       "      <td>56.0</td>\n",
       "      <td>1400.0</td>\n",
       "    </tr>\n",
       "    <tr>\n",
       "      <th>12</th>\n",
       "      <td>0.40</td>\n",
       "      <td>si2</td>\n",
       "      <td>j</td>\n",
       "      <td>fair</td>\n",
       "      <td>5.7</td>\n",
       "      <td>5.71</td>\n",
       "      <td>3.54</td>\n",
       "      <td>61.2</td>\n",
       "      <td>54.0</td>\n",
       "      <td>2000.0</td>\n",
       "    </tr>\n",
       "    <tr>\n",
       "      <th>13</th>\n",
       "      <td>1.10</td>\n",
       "      <td>vvs1</td>\n",
       "      <td>e</td>\n",
       "      <td>premium</td>\n",
       "      <td>6.6</td>\n",
       "      <td>5.71</td>\n",
       "      <td>4.08</td>\n",
       "      <td>61.2</td>\n",
       "      <td>57.0</td>\n",
       "      <td>9200.0</td>\n",
       "    </tr>\n",
       "    <tr>\n",
       "      <th>15</th>\n",
       "      <td>0.55</td>\n",
       "      <td>vvs2</td>\n",
       "      <td>i</td>\n",
       "      <td>good</td>\n",
       "      <td>4.4</td>\n",
       "      <td>4.39</td>\n",
       "      <td>2.69</td>\n",
       "      <td>61.3</td>\n",
       "      <td>58.0</td>\n",
       "      <td>1800.0</td>\n",
       "    </tr>\n",
       "    <tr>\n",
       "      <th>16</th>\n",
       "      <td>0.50</td>\n",
       "      <td>si1</td>\n",
       "      <td>g</td>\n",
       "      <td>very good</td>\n",
       "      <td>5.2</td>\n",
       "      <td>4.39</td>\n",
       "      <td>3.20</td>\n",
       "      <td>61.3</td>\n",
       "      <td>56.0</td>\n",
       "      <td>2300.0</td>\n",
       "    </tr>\n",
       "  </tbody>\n",
       "</table>\n",
       "</div>"
      ],
      "text/plain": [
       "    carat clarity color        cut  x dimension  y dimension  z dimension  \\\n",
       "11   0.40    vvs2     g  very good          4.9         4.88         3.21   \n",
       "12   0.40     si2     j       fair          5.7         5.71         3.54   \n",
       "13   1.10    vvs1     e    premium          6.6         5.71         4.08   \n",
       "15   0.55    vvs2     i       good          4.4         4.39         2.69   \n",
       "16   0.50     si1     g  very good          5.2         4.39         3.20   \n",
       "\n",
       "    depth  table   price  \n",
       "11   61.2   56.0  1400.0  \n",
       "12   61.2   54.0  2000.0  \n",
       "13   61.2   57.0  9200.0  \n",
       "15   61.3   58.0  1800.0  \n",
       "16   61.3   56.0  2300.0  "
      ]
     },
     "execution_count": 10,
     "metadata": {},
     "output_type": "execute_result"
    }
   ],
   "source": [
    "def detect_price_outliers(data_frame, threshold=3):\n",
    "    outliers = []\n",
    "    numeric_columns = data_frame.select_dtypes(include=np.number).columns\n",
    "    for column in numeric_columns:\n",
    "        if column != 'price':\n",
    "            mean = np.mean(data_frame[column])\n",
    "            std = np.std(data_frame[column])\n",
    "            outlier_indices = (\n",
    "                (data_frame[column] < mean - threshold * std) | \n",
    "                (data_frame[column] > mean + threshold * std)\n",
    "            ) & (data_frame['price'] > mean + threshold * std)\n",
    "            outliers.extend(data_frame.loc[outlier_indices, :].index)\n",
    "    return list(set(outliers))\n",
    "\n",
    "# Wykrywamy wartości odstające zależne od ceny\n",
    "price_outliers_indices = detect_price_outliers(df)\n",
    "\n",
    "# Wyświetlamy dane odstające\n",
    "price_outliers_data = df.loc[price_outliers_indices, :]\n",
    "price_outliers_data"
   ]
  },
  {
   "cell_type": "code",
   "execution_count": 11,
   "metadata": {},
   "outputs": [
    {
     "data": {
      "text/html": [
       "<div>\n",
       "<style scoped>\n",
       "    .dataframe tbody tr th:only-of-type {\n",
       "        vertical-align: middle;\n",
       "    }\n",
       "\n",
       "    .dataframe tbody tr th {\n",
       "        vertical-align: top;\n",
       "    }\n",
       "\n",
       "    .dataframe thead th {\n",
       "        text-align: right;\n",
       "    }\n",
       "</style>\n",
       "<table border=\"1\" class=\"dataframe\">\n",
       "  <thead>\n",
       "    <tr style=\"text-align: right;\">\n",
       "      <th></th>\n",
       "      <th>carat</th>\n",
       "      <th>clarity</th>\n",
       "      <th>color</th>\n",
       "      <th>cut</th>\n",
       "      <th>x dimension</th>\n",
       "      <th>y dimension</th>\n",
       "      <th>z dimension</th>\n",
       "      <th>depth</th>\n",
       "      <th>table</th>\n",
       "      <th>price</th>\n",
       "    </tr>\n",
       "  </thead>\n",
       "  <tbody>\n",
       "    <tr>\n",
       "      <th>0</th>\n",
       "      <td>0.50</td>\n",
       "      <td>if</td>\n",
       "      <td>d</td>\n",
       "      <td>ideal</td>\n",
       "      <td>5.1</td>\n",
       "      <td>5.15</td>\n",
       "      <td>3.20</td>\n",
       "      <td>61.5</td>\n",
       "      <td>58.0</td>\n",
       "      <td>3000.0</td>\n",
       "    </tr>\n",
       "    <tr>\n",
       "      <th>1</th>\n",
       "      <td>0.70</td>\n",
       "      <td>vvs2</td>\n",
       "      <td>e</td>\n",
       "      <td>premium</td>\n",
       "      <td>5.7</td>\n",
       "      <td>5.15</td>\n",
       "      <td>3.52</td>\n",
       "      <td>62.0</td>\n",
       "      <td>59.0</td>\n",
       "      <td>4500.0</td>\n",
       "    </tr>\n",
       "    <tr>\n",
       "      <th>2</th>\n",
       "      <td>0.70</td>\n",
       "      <td>si2</td>\n",
       "      <td>h</td>\n",
       "      <td>good</td>\n",
       "      <td>4.3</td>\n",
       "      <td>4.31</td>\n",
       "      <td>3.52</td>\n",
       "      <td>62.3</td>\n",
       "      <td>56.0</td>\n",
       "      <td>700.0</td>\n",
       "    </tr>\n",
       "    <tr>\n",
       "      <th>3</th>\n",
       "      <td>1.20</td>\n",
       "      <td>if</td>\n",
       "      <td>d</td>\n",
       "      <td>ideal</td>\n",
       "      <td>4.3</td>\n",
       "      <td>6.82</td>\n",
       "      <td>4.20</td>\n",
       "      <td>61.7</td>\n",
       "      <td>58.0</td>\n",
       "      <td>10000.0</td>\n",
       "    </tr>\n",
       "    <tr>\n",
       "      <th>4</th>\n",
       "      <td>0.90</td>\n",
       "      <td>i1</td>\n",
       "      <td>j</td>\n",
       "      <td>fair</td>\n",
       "      <td>6.0</td>\n",
       "      <td>6.82</td>\n",
       "      <td>3.70</td>\n",
       "      <td>61.7</td>\n",
       "      <td>58.0</td>\n",
       "      <td>2400.0</td>\n",
       "    </tr>\n",
       "    <tr>\n",
       "      <th>...</th>\n",
       "      <td>...</td>\n",
       "      <td>...</td>\n",
       "      <td>...</td>\n",
       "      <td>...</td>\n",
       "      <td>...</td>\n",
       "      <td>...</td>\n",
       "      <td>...</td>\n",
       "      <td>...</td>\n",
       "      <td>...</td>\n",
       "      <td>...</td>\n",
       "    </tr>\n",
       "    <tr>\n",
       "      <th>195</th>\n",
       "      <td>0.45</td>\n",
       "      <td>si1</td>\n",
       "      <td>f</td>\n",
       "      <td>very good</td>\n",
       "      <td>4.9</td>\n",
       "      <td>4.89</td>\n",
       "      <td>3.96</td>\n",
       "      <td>62.4</td>\n",
       "      <td>59.0</td>\n",
       "      <td>2300.0</td>\n",
       "    </tr>\n",
       "    <tr>\n",
       "      <th>196</th>\n",
       "      <td>1.25</td>\n",
       "      <td>vvs2</td>\n",
       "      <td>h</td>\n",
       "      <td>good</td>\n",
       "      <td>6.9</td>\n",
       "      <td>4.89</td>\n",
       "      <td>4.27</td>\n",
       "      <td>62.4</td>\n",
       "      <td>55.0</td>\n",
       "      <td>10400.0</td>\n",
       "    </tr>\n",
       "    <tr>\n",
       "      <th>197</th>\n",
       "      <td>0.55</td>\n",
       "      <td>i1</td>\n",
       "      <td>i</td>\n",
       "      <td>premium</td>\n",
       "      <td>5.3</td>\n",
       "      <td>4.89</td>\n",
       "      <td>3.28</td>\n",
       "      <td>62.3</td>\n",
       "      <td>57.0</td>\n",
       "      <td>150000.0</td>\n",
       "    </tr>\n",
       "    <tr>\n",
       "      <th>198</th>\n",
       "      <td>0.85</td>\n",
       "      <td>si2</td>\n",
       "      <td>e</td>\n",
       "      <td>fair</td>\n",
       "      <td>6.1</td>\n",
       "      <td>6.13</td>\n",
       "      <td>3.78</td>\n",
       "      <td>62.3</td>\n",
       "      <td>58.0</td>\n",
       "      <td>6300.0</td>\n",
       "    </tr>\n",
       "    <tr>\n",
       "      <th>199</th>\n",
       "      <td>0.85</td>\n",
       "      <td>vvs1</td>\n",
       "      <td>g</td>\n",
       "      <td>very good</td>\n",
       "      <td>6.4</td>\n",
       "      <td>6.43</td>\n",
       "      <td>3.97</td>\n",
       "      <td>62.5</td>\n",
       "      <td>58.0</td>\n",
       "      <td>7500.0</td>\n",
       "    </tr>\n",
       "  </tbody>\n",
       "</table>\n",
       "<p>195 rows × 10 columns</p>\n",
       "</div>"
      ],
      "text/plain": [
       "     carat clarity color        cut  x dimension  y dimension  z dimension  \\\n",
       "0     0.50      if     d      ideal          5.1         5.15         3.20   \n",
       "1     0.70    vvs2     e    premium          5.7         5.15         3.52   \n",
       "2     0.70     si2     h       good          4.3         4.31         3.52   \n",
       "3     1.20      if     d      ideal          4.3         6.82         4.20   \n",
       "4     0.90      i1     j       fair          6.0         6.82         3.70   \n",
       "..     ...     ...   ...        ...          ...          ...          ...   \n",
       "195   0.45     si1     f  very good          4.9         4.89         3.96   \n",
       "196   1.25    vvs2     h       good          6.9         4.89         4.27   \n",
       "197   0.55      i1     i    premium          5.3         4.89         3.28   \n",
       "198   0.85     si2     e       fair          6.1         6.13         3.78   \n",
       "199   0.85    vvs1     g  very good          6.4         6.43         3.97   \n",
       "\n",
       "     depth  table     price  \n",
       "0     61.5   58.0    3000.0  \n",
       "1     62.0   59.0    4500.0  \n",
       "2     62.3   56.0     700.0  \n",
       "3     61.7   58.0   10000.0  \n",
       "4     61.7   58.0    2400.0  \n",
       "..     ...    ...       ...  \n",
       "195   62.4   59.0    2300.0  \n",
       "196   62.4   55.0   10400.0  \n",
       "197   62.3   57.0  150000.0  \n",
       "198   62.3   58.0    6300.0  \n",
       "199   62.5   58.0    7500.0  \n",
       "\n",
       "[195 rows x 10 columns]"
      ]
     },
     "execution_count": 11,
     "metadata": {},
     "output_type": "execute_result"
    }
   ],
   "source": [
    "df = df.drop(index=[11,12,13,15,16])\n",
    "df"
   ]
  },
  {
   "cell_type": "code",
   "execution_count": 12,
   "metadata": {},
   "outputs": [
    {
     "name": "stdout",
     "output_type": "stream",
     "text": [
      "Liczebność kategorii dla kolumny 'clarity':\n",
      "clarity\n",
      "si2     43\n",
      "vvs2    35\n",
      "vvs1    34\n",
      "i1      31\n",
      "si1     29\n",
      "if      23\n",
      "Name: count, dtype: int64\n",
      "\n",
      "Liczebność kategorii dla kolumny 'color':\n",
      "color\n",
      "g            38\n",
      "h            34\n",
      "i            32\n",
      "f            30\n",
      "e            24\n",
      "d            22\n",
      "colorless     8\n",
      "j             7\n",
      "Name: count, dtype: int64\n",
      "\n",
      "Liczebność kategorii dla kolumny 'cut':\n",
      "cut\n",
      "good         50\n",
      "premium      40\n",
      "very good    38\n",
      "fair         35\n",
      "ideal        32\n",
      "Name: count, dtype: int64\n",
      "\n"
     ]
    }
   ],
   "source": [
    "categorical_columns = df.select_dtypes(include=['object']).columns\n",
    "\n",
    "# Liczymy liczebność kategorii dla każdej z tych kolumn\n",
    "for column in categorical_columns:\n",
    "    category_counts = df[column].value_counts()\n",
    "    print(f\"Liczebność kategorii dla kolumny '{column}':\")\n",
    "    print(category_counts)\n",
    "    print()"
   ]
  },
  {
   "cell_type": "markdown",
   "metadata": {},
   "source": [
    "3.\t"
   ]
  },
  {
   "cell_type": "code",
   "execution_count": 13,
   "metadata": {},
   "outputs": [
    {
     "name": "stdout",
     "output_type": "stream",
     "text": [
      "                            OLS Regression Results                            \n",
      "==============================================================================\n",
      "Dep. Variable:                  price   R-squared:                       0.050\n",
      "Model:                            OLS   Adj. R-squared:                  0.020\n",
      "Method:                 Least Squares   F-statistic:                     1.646\n",
      "Date:                Sat, 03 Feb 2024   Prob (F-statistic):              0.137\n",
      "Time:                        20:34:59   Log-Likelihood:                -2338.4\n",
      "No. Observations:                 195   AIC:                             4691.\n",
      "Df Residuals:                     188   BIC:                             4714.\n",
      "Df Model:                           6                                         \n",
      "Covariance Type:            nonrobust                                         \n",
      "==============================================================================\n",
      "                 coef    std err          t      P>|t|      [0.025      0.975]\n",
      "------------------------------------------------------------------------------\n",
      "Intercept  -1.396e+05      7e+05     -0.200      0.842   -1.52e+06    1.24e+06\n",
      "carat       1.226e+04   1.56e+04      0.786      0.433   -1.85e+04     4.3e+04\n",
      "x           6422.6884   7637.148      0.841      0.401   -8642.828    2.15e+04\n",
      "y          -5944.9066   4824.291     -1.232      0.219   -1.55e+04    3571.793\n",
      "z           1390.7303   8748.623      0.159      0.874   -1.59e+04    1.86e+04\n",
      "depth       -721.3978   1.09e+04     -0.066      0.947   -2.22e+04    2.07e+04\n",
      "table       3121.0531   2143.023      1.456      0.147   -1106.409    7348.515\n",
      "==============================================================================\n",
      "Omnibus:                      273.827   Durbin-Watson:                   2.053\n",
      "Prob(Omnibus):                  0.000   Jarque-Bera (JB):            15592.211\n",
      "Skew:                           6.362   Prob(JB):                         0.00\n",
      "Kurtosis:                      44.918   Cond. No.                     2.09e+04\n",
      "==============================================================================\n",
      "\n",
      "Notes:\n",
      "[1] Standard Errors assume that the covariance matrix of the errors is correctly specified.\n",
      "[2] The condition number is large, 2.09e+04. This might indicate that there are\n",
      "strong multicollinearity or other numerical problems.\n"
     ]
    }
   ],
   "source": [
    "import statsmodels.formula.api as smf\n",
    "\n",
    "df = df.rename(columns={'x dimension': 'x', 'y dimension': 'y', 'z dimension': 'z',})\n",
    "\n",
    "model = smf.ols(formula=\"price ~ carat + x + y + z + depth + table\", data=df).fit()\n",
    "print(model.summary())"
   ]
  },
  {
   "cell_type": "code",
   "execution_count": 14,
   "metadata": {},
   "outputs": [
    {
     "data": {
      "text/html": [
       "<table class=\"simpletable\">\n",
       "<caption>OLS Regression Results</caption>\n",
       "<tr>\n",
       "  <th>Dep. Variable:</th>          <td>price</td>      <th>  R-squared:         </th> <td>   0.027</td>\n",
       "</tr>\n",
       "<tr>\n",
       "  <th>Model:</th>                   <td>OLS</td>       <th>  Adj. R-squared:    </th> <td>   0.022</td>\n",
       "</tr>\n",
       "<tr>\n",
       "  <th>Method:</th>             <td>Least Squares</td>  <th>  F-statistic:       </th> <td>   5.325</td>\n",
       "</tr>\n",
       "<tr>\n",
       "  <th>Date:</th>             <td>Sat, 03 Feb 2024</td> <th>  Prob (F-statistic):</th>  <td>0.0221</td> \n",
       "</tr>\n",
       "<tr>\n",
       "  <th>Time:</th>                 <td>20:35:02</td>     <th>  Log-Likelihood:    </th> <td> -2340.7</td>\n",
       "</tr>\n",
       "<tr>\n",
       "  <th>No. Observations:</th>      <td>   195</td>      <th>  AIC:               </th> <td>   4685.</td>\n",
       "</tr>\n",
       "<tr>\n",
       "  <th>Df Residuals:</th>          <td>   193</td>      <th>  BIC:               </th> <td>   4692.</td>\n",
       "</tr>\n",
       "<tr>\n",
       "  <th>Df Model:</th>              <td>     1</td>      <th>                     </th>     <td> </td>   \n",
       "</tr>\n",
       "<tr>\n",
       "  <th>Covariance Type:</th>      <td>nonrobust</td>    <th>                     </th>     <td> </td>   \n",
       "</tr>\n",
       "</table>\n",
       "<table class=\"simpletable\">\n",
       "<tr>\n",
       "      <td></td>         <th>coef</th>     <th>std err</th>      <th>t</th>      <th>P>|t|</th>  <th>[0.025</th>    <th>0.975]</th>  \n",
       "</tr>\n",
       "<tr>\n",
       "  <th>Intercept</th> <td>-5050.6261</td> <td> 7696.126</td> <td>   -0.656</td> <td> 0.512</td> <td>-2.02e+04</td> <td> 1.01e+04</td>\n",
       "</tr>\n",
       "<tr>\n",
       "  <th>carat</th>     <td> 2.037e+04</td> <td> 8828.286</td> <td>    2.308</td> <td> 0.022</td> <td> 2959.786</td> <td> 3.78e+04</td>\n",
       "</tr>\n",
       "</table>\n",
       "<table class=\"simpletable\">\n",
       "<tr>\n",
       "  <th>Omnibus:</th>       <td>278.818</td> <th>  Durbin-Watson:     </th> <td>   2.076</td> \n",
       "</tr>\n",
       "<tr>\n",
       "  <th>Prob(Omnibus):</th> <td> 0.000</td>  <th>  Jarque-Bera (JB):  </th> <td>16915.745</td>\n",
       "</tr>\n",
       "<tr>\n",
       "  <th>Skew:</th>          <td> 6.543</td>  <th>  Prob(JB):          </th> <td>    0.00</td> \n",
       "</tr>\n",
       "<tr>\n",
       "  <th>Kurtosis:</th>      <td>46.711</td>  <th>  Cond. No.          </th> <td>    5.27</td> \n",
       "</tr>\n",
       "</table><br/><br/>Notes:<br/>[1] Standard Errors assume that the covariance matrix of the errors is correctly specified."
      ],
      "text/latex": [
       "\\begin{center}\n",
       "\\begin{tabular}{lclc}\n",
       "\\toprule\n",
       "\\textbf{Dep. Variable:}    &      price       & \\textbf{  R-squared:         } &     0.027   \\\\\n",
       "\\textbf{Model:}            &       OLS        & \\textbf{  Adj. R-squared:    } &     0.022   \\\\\n",
       "\\textbf{Method:}           &  Least Squares   & \\textbf{  F-statistic:       } &     5.325   \\\\\n",
       "\\textbf{Date:}             & Sat, 03 Feb 2024 & \\textbf{  Prob (F-statistic):} &   0.0221    \\\\\n",
       "\\textbf{Time:}             &     20:35:02     & \\textbf{  Log-Likelihood:    } &   -2340.7   \\\\\n",
       "\\textbf{No. Observations:} &         195      & \\textbf{  AIC:               } &     4685.   \\\\\n",
       "\\textbf{Df Residuals:}     &         193      & \\textbf{  BIC:               } &     4692.   \\\\\n",
       "\\textbf{Df Model:}         &           1      & \\textbf{                     } &             \\\\\n",
       "\\textbf{Covariance Type:}  &    nonrobust     & \\textbf{                     } &             \\\\\n",
       "\\bottomrule\n",
       "\\end{tabular}\n",
       "\\begin{tabular}{lcccccc}\n",
       "                   & \\textbf{coef} & \\textbf{std err} & \\textbf{t} & \\textbf{P$> |$t$|$} & \\textbf{[0.025} & \\textbf{0.975]}  \\\\\n",
       "\\midrule\n",
       "\\textbf{Intercept} &   -5050.6261  &     7696.126     &    -0.656  &         0.512        &    -2.02e+04    &     1.01e+04     \\\\\n",
       "\\textbf{carat}     &    2.037e+04  &     8828.286     &     2.308  &         0.022        &     2959.786    &     3.78e+04     \\\\\n",
       "\\bottomrule\n",
       "\\end{tabular}\n",
       "\\begin{tabular}{lclc}\n",
       "\\textbf{Omnibus:}       & 278.818 & \\textbf{  Durbin-Watson:     } &     2.076  \\\\\n",
       "\\textbf{Prob(Omnibus):} &   0.000 & \\textbf{  Jarque-Bera (JB):  } & 16915.745  \\\\\n",
       "\\textbf{Skew:}          &   6.543 & \\textbf{  Prob(JB):          } &      0.00  \\\\\n",
       "\\textbf{Kurtosis:}      &  46.711 & \\textbf{  Cond. No.          } &      5.27  \\\\\n",
       "\\bottomrule\n",
       "\\end{tabular}\n",
       "%\\caption{OLS Regression Results}\n",
       "\\end{center}\n",
       "\n",
       "Notes: \\newline\n",
       " [1] Standard Errors assume that the covariance matrix of the errors is correctly specified."
      ],
      "text/plain": [
       "<class 'statsmodels.iolib.summary.Summary'>\n",
       "\"\"\"\n",
       "                            OLS Regression Results                            \n",
       "==============================================================================\n",
       "Dep. Variable:                  price   R-squared:                       0.027\n",
       "Model:                            OLS   Adj. R-squared:                  0.022\n",
       "Method:                 Least Squares   F-statistic:                     5.325\n",
       "Date:                Sat, 03 Feb 2024   Prob (F-statistic):             0.0221\n",
       "Time:                        20:35:02   Log-Likelihood:                -2340.7\n",
       "No. Observations:                 195   AIC:                             4685.\n",
       "Df Residuals:                     193   BIC:                             4692.\n",
       "Df Model:                           1                                         \n",
       "Covariance Type:            nonrobust                                         \n",
       "==============================================================================\n",
       "                 coef    std err          t      P>|t|      [0.025      0.975]\n",
       "------------------------------------------------------------------------------\n",
       "Intercept  -5050.6261   7696.126     -0.656      0.512   -2.02e+04    1.01e+04\n",
       "carat       2.037e+04   8828.286      2.308      0.022    2959.786    3.78e+04\n",
       "==============================================================================\n",
       "Omnibus:                      278.818   Durbin-Watson:                   2.076\n",
       "Prob(Omnibus):                  0.000   Jarque-Bera (JB):            16915.745\n",
       "Skew:                           6.543   Prob(JB):                         0.00\n",
       "Kurtosis:                      46.711   Cond. No.                         5.27\n",
       "==============================================================================\n",
       "\n",
       "Notes:\n",
       "[1] Standard Errors assume that the covariance matrix of the errors is correctly specified.\n",
       "\"\"\""
      ]
     },
     "execution_count": 14,
     "metadata": {},
     "output_type": "execute_result"
    }
   ],
   "source": [
    "smf.ols(\"price ~ carat\", data=df).fit().summary()\n",
    "# smf.ols(\"price ~ x\", data=df).fit().summary()\n",
    "# smf.ols(\"price ~ y\", data=df).fit().summary()\n",
    "# smf.ols(\"price ~ z\", data=df).fit().summary()\n",
    "# smf.ols(\"price ~ depth\", data=df).fit().summary()\n",
    "# smf.ols(\"price ~ table\", data=df).fit().summary()"
   ]
  },
  {
   "cell_type": "code",
   "execution_count": 15,
   "metadata": {},
   "outputs": [
    {
     "data": {
      "application/vnd.plotly.v1+json": {
       "config": {
        "plotlyServerURL": "https://plot.ly"
       },
       "data": [
        {
         "mode": "markers",
         "name": "Price vs Carat",
         "type": "scatter",
         "x": [
          0.5,
          0.7,
          0.7,
          1.2,
          0.9,
          0.9,
          0.5,
          0.4,
          0.4,
          1,
          0.5,
          0.55,
          1,
          0.6,
          0.7,
          0.7,
          1.3,
          1.4,
          1.4,
          1.6,
          0.2,
          0.35,
          0.35,
          0.55,
          0.55,
          0.65,
          1.5,
          0.9,
          0.9,
          0.45,
          0.6,
          0.6,
          0.95,
          1.05,
          1.05,
          0.45,
          0.45,
          0.85,
          0.95,
          0.95,
          0.35,
          0.55,
          0.55,
          1.05,
          0.75,
          0.65,
          1.4,
          0.3,
          0.5,
          1.3,
          1.3,
          0.4,
          1.15,
          1.15,
          0.55,
          0.6,
          0.6,
          0.35,
          0.75,
          0.75,
          1.05,
          0.4,
          0.55,
          0.55,
          0.7,
          0.9,
          0.5,
          0.45,
          1.2,
          0.65,
          0.55,
          1.3,
          0.75,
          0.75,
          0.5,
          0.85,
          0.85,
          1.1,
          1.1,
          0.9,
          0.5,
          0.5,
          0.4,
          1.15,
          1.15,
          0.7,
          0.65,
          1.25,
          0.55,
          0.6,
          0.6,
          0.75,
          1.4,
          1.4,
          0.45,
          0.95,
          1.05,
          0.55,
          0.65,
          0.65,
          0.8,
          1.15,
          1.15,
          0.7,
          1.3,
          0.4,
          0.4,
          0.85,
          1.2,
          0.5,
          1.05,
          0.45,
          0.75,
          0.75,
          0.6,
          0.9,
          1.1,
          1.1,
          0.45,
          0.7,
          0.7,
          0.8,
          1.25,
          0.55,
          0.55,
          0.65,
          1.3,
          0.5,
          0.85,
          0.85,
          1.05,
          0.4,
          1.2,
          1.2,
          0.75,
          0.95,
          1.15,
          0.55,
          0.55,
          0.65,
          0.8,
          0.8,
          1.3,
          0.7,
          0.4,
          1.05,
          0.85,
          0.85,
          0.45,
          1.2,
          0.5,
          0.6,
          1.4,
          1.4,
          0.75,
          1.1,
          0.4,
          0.4,
          0.75,
          1.35,
          1.35,
          0.9,
          0.6,
          0.6,
          0.85,
          1.25,
          0.5,
          0.95,
          0.95,
          0.45,
          1.3,
          1.3,
          0.7,
          0.55,
          1.2,
          1.05,
          0.35,
          0.35,
          0.8,
          1.4,
          1.4,
          0.5,
          0.9,
          1.35,
          1.35,
          0.65,
          1.15,
          0.4,
          0.4,
          0.95,
          0.45,
          1.25,
          0.55,
          0.85,
          0.85
         ],
         "y": [
          3000,
          4500,
          700,
          10000,
          2400,
          4200,
          3100,
          1500,
          1500,
          7500,
          7500,
          1800,
          2300,
          2200,
          2100,
          6000,
          10500,
          11000,
          800,
          3400,
          500,
          1300,
          1600,
          2500,
          7700,
          2900,
          10800,
          2600,
          9300,
          1700,
          2800,
          2700,
          9400,
          8500,
          2200,
          1500,
          5900,
          4800,
          7300,
          2700,
          1400,
          2600,
          1200,
          9500,
          3800,
          3300,
          11200,
          600,
          2900,
          9900,
          8100,
          1400,
          9800,
          2100,
          1700,
          3700,
          5000,
          900,
          4600,
          2500,
          9600,
          1800,
          2300,
          7900,
          4000,
          6600,
          3100,
          1100,
          10200,
          3500,
          2800,
          9900,
          4700,
          2600,
          2200,
          6500,
          1900,
          7100,
          7800,
          6700,
          3200,
          2400,
          2600,
          9200,
          3000,
          4100,
          3600,
          10300,
          2300,
          3400,
          8000,
          4400,
          11500,
          2500,
          1500,
          6800,
          7300,
          3100,
          3300,
          7700,
          5900,
          9300,
          7900,
          4200,
          9800,
          2700,
          2900,
          6500,
          10100,
          3000,
          7400,
          2600,
          4600,
          7200,
          3600,
          6800,
          9500,
          7600,
          2100,
          4300,
          2200,
          6300,
          10400,
          2800,
          7800,
          3400,
          10200,
          3200,
          6400,
          2300,
          9300,
          2400,
          10100,
          2600,
          4500,
          6900,
          9600,
          3100,
          7700,
          3300,
          4000,
          7900,
          10300,
          4300,
          2100,
          7400,
          6500,
          4100,
          2600,
          10100,
          3200,
          3500,
          12000,
          8000,
          4600,
          9400,
          2200,
          2400,
          4400,
          10700,
          7900,
          6900,
          3600,
          2500,
          6600,
          10500,
          3100,
          7100,
          7600,
          2500,
          9900,
          8100,
          4200,
          3300,
          10100,
          9200,
          2100,
          170000,
          4900,
          350000,
          7900,
          2900,
          260000,
          9900,
          300000,
          3400,
          9800,
          2000,
          7700,
          7100,
          2300,
          10400,
          150000,
          6300,
          7500
         ]
        },
        {
         "name": "Fitted Regression Line",
         "type": "scatter",
         "x": [
          0.5,
          0.7,
          0.7,
          1.2,
          0.9,
          0.9,
          0.5,
          0.4,
          0.4,
          1,
          0.5,
          0.55,
          1,
          0.6,
          0.7,
          0.7,
          1.3,
          1.4,
          1.4,
          1.6,
          0.2,
          0.35,
          0.35,
          0.55,
          0.55,
          0.65,
          1.5,
          0.9,
          0.9,
          0.45,
          0.6,
          0.6,
          0.95,
          1.05,
          1.05,
          0.45,
          0.45,
          0.85,
          0.95,
          0.95,
          0.35,
          0.55,
          0.55,
          1.05,
          0.75,
          0.65,
          1.4,
          0.3,
          0.5,
          1.3,
          1.3,
          0.4,
          1.15,
          1.15,
          0.55,
          0.6,
          0.6,
          0.35,
          0.75,
          0.75,
          1.05,
          0.4,
          0.55,
          0.55,
          0.7,
          0.9,
          0.5,
          0.45,
          1.2,
          0.65,
          0.55,
          1.3,
          0.75,
          0.75,
          0.5,
          0.85,
          0.85,
          1.1,
          1.1,
          0.9,
          0.5,
          0.5,
          0.4,
          1.15,
          1.15,
          0.7,
          0.65,
          1.25,
          0.55,
          0.6,
          0.6,
          0.75,
          1.4,
          1.4,
          0.45,
          0.95,
          1.05,
          0.55,
          0.65,
          0.65,
          0.8,
          1.15,
          1.15,
          0.7,
          1.3,
          0.4,
          0.4,
          0.85,
          1.2,
          0.5,
          1.05,
          0.45,
          0.75,
          0.75,
          0.6,
          0.9,
          1.1,
          1.1,
          0.45,
          0.7,
          0.7,
          0.8,
          1.25,
          0.55,
          0.55,
          0.65,
          1.3,
          0.5,
          0.85,
          0.85,
          1.05,
          0.4,
          1.2,
          1.2,
          0.75,
          0.95,
          1.15,
          0.55,
          0.55,
          0.65,
          0.8,
          0.8,
          1.3,
          0.7,
          0.4,
          1.05,
          0.85,
          0.85,
          0.45,
          1.2,
          0.5,
          0.6,
          1.4,
          1.4,
          0.75,
          1.1,
          0.4,
          0.4,
          0.75,
          1.35,
          1.35,
          0.9,
          0.6,
          0.6,
          0.85,
          1.25,
          0.5,
          0.95,
          0.95,
          0.45,
          1.3,
          1.3,
          0.7,
          0.55,
          1.2,
          1.05,
          0.35,
          0.35,
          0.8,
          1.4,
          1.4,
          0.5,
          0.9,
          1.35,
          1.35,
          0.65,
          1.15,
          0.4,
          0.4,
          0.95,
          0.45,
          1.25,
          0.55,
          0.85,
          0.85
         ],
         "y": [
          5135.420393559919,
          9209.838998211082,
          9209.838998211082,
          19395.88550983899,
          13284.257602862246,
          13284.257602862246,
          5135.420393559919,
          3098.211091234338,
          3098.211091234338,
          15321.466905187826,
          5135.420393559919,
          6154.025044722711,
          15321.466905187826,
          7172.629695885501,
          9209.838998211082,
          9209.838998211082,
          21433.09481216457,
          23470.30411449015,
          23470.30411449015,
          27544.72271914132,
          -976.2075134168258,
          2079.606440071546,
          2079.606440071546,
          6154.025044722711,
          6154.025044722711,
          8191.234347048291,
          25507.513416815735,
          13284.257602862246,
          13284.257602862246,
          4116.815742397129,
          7172.629695885501,
          7172.629695885501,
          14302.862254025036,
          16340.071556350616,
          16340.071556350616,
          4116.815742397129,
          4116.815742397129,
          12265.652951699452,
          14302.862254025036,
          14302.862254025036,
          2079.606440071546,
          6154.025044722711,
          6154.025044722711,
          16340.071556350616,
          10228.443649373872,
          8191.234347048291,
          23470.30411449015,
          1061.0017889087558,
          5135.420393559919,
          21433.09481216457,
          21433.09481216457,
          3098.211091234338,
          18377.280858676197,
          18377.280858676197,
          6154.025044722711,
          7172.629695885501,
          7172.629695885501,
          2079.606440071546,
          10228.443649373872,
          10228.443649373872,
          16340.071556350616,
          3098.211091234338,
          6154.025044722711,
          6154.025044722711,
          9209.838998211082,
          13284.257602862246,
          5135.420393559919,
          4116.815742397129,
          19395.88550983899,
          8191.234347048291,
          6154.025044722711,
          21433.09481216457,
          10228.443649373872,
          10228.443649373872,
          5135.420393559919,
          12265.652951699452,
          12265.652951699452,
          17358.67620751341,
          17358.67620751341,
          13284.257602862246,
          5135.420393559919,
          5135.420393559919,
          3098.211091234338,
          18377.280858676197,
          18377.280858676197,
          9209.838998211082,
          8191.234347048291,
          20414.49016100178,
          6154.025044722711,
          7172.629695885501,
          7172.629695885501,
          10228.443649373872,
          23470.30411449015,
          23470.30411449015,
          4116.815742397129,
          14302.862254025036,
          16340.071556350616,
          6154.025044722711,
          8191.234347048291,
          8191.234347048291,
          11247.048300536666,
          18377.280858676197,
          18377.280858676197,
          9209.838998211082,
          21433.09481216457,
          3098.211091234338,
          3098.211091234338,
          12265.652951699452,
          19395.88550983899,
          5135.420393559919,
          16340.071556350616,
          4116.815742397129,
          10228.443649373872,
          10228.443649373872,
          7172.629695885501,
          13284.257602862246,
          17358.67620751341,
          17358.67620751341,
          4116.815742397129,
          9209.838998211082,
          9209.838998211082,
          11247.048300536666,
          20414.49016100178,
          6154.025044722711,
          6154.025044722711,
          8191.234347048291,
          21433.09481216457,
          5135.420393559919,
          12265.652951699452,
          12265.652951699452,
          16340.071556350616,
          3098.211091234338,
          19395.88550983899,
          19395.88550983899,
          10228.443649373872,
          14302.862254025036,
          18377.280858676197,
          6154.025044722711,
          6154.025044722711,
          8191.234347048291,
          11247.048300536666,
          11247.048300536666,
          21433.09481216457,
          9209.838998211082,
          3098.211091234338,
          16340.071556350616,
          12265.652951699452,
          12265.652951699452,
          4116.815742397129,
          19395.88550983899,
          5135.420393559919,
          7172.629695885501,
          23470.30411449015,
          23470.30411449015,
          10228.443649373872,
          17358.67620751341,
          3098.211091234338,
          3098.211091234338,
          10228.443649373872,
          22451.699463327364,
          22451.699463327364,
          13284.257602862246,
          7172.629695885501,
          7172.629695885501,
          12265.652951699452,
          20414.49016100178,
          5135.420393559919,
          14302.862254025036,
          14302.862254025036,
          4116.815742397129,
          21433.09481216457,
          21433.09481216457,
          9209.838998211082,
          6154.025044722711,
          19395.88550983899,
          16340.071556350616,
          2079.606440071546,
          2079.606440071546,
          11247.048300536666,
          23470.30411449015,
          23470.30411449015,
          5135.420393559919,
          13284.257602862246,
          22451.699463327364,
          22451.699463327364,
          8191.234347048291,
          18377.280858676197,
          3098.211091234338,
          3098.211091234338,
          14302.862254025036,
          4116.815742397129,
          20414.49016100178,
          6154.025044722711,
          12265.652951699452,
          12265.652951699452
         ]
        }
       ],
       "layout": {
        "template": {
         "data": {
          "bar": [
           {
            "error_x": {
             "color": "#2a3f5f"
            },
            "error_y": {
             "color": "#2a3f5f"
            },
            "marker": {
             "line": {
              "color": "#E5ECF6",
              "width": 0.5
             },
             "pattern": {
              "fillmode": "overlay",
              "size": 10,
              "solidity": 0.2
             }
            },
            "type": "bar"
           }
          ],
          "barpolar": [
           {
            "marker": {
             "line": {
              "color": "#E5ECF6",
              "width": 0.5
             },
             "pattern": {
              "fillmode": "overlay",
              "size": 10,
              "solidity": 0.2
             }
            },
            "type": "barpolar"
           }
          ],
          "carpet": [
           {
            "aaxis": {
             "endlinecolor": "#2a3f5f",
             "gridcolor": "white",
             "linecolor": "white",
             "minorgridcolor": "white",
             "startlinecolor": "#2a3f5f"
            },
            "baxis": {
             "endlinecolor": "#2a3f5f",
             "gridcolor": "white",
             "linecolor": "white",
             "minorgridcolor": "white",
             "startlinecolor": "#2a3f5f"
            },
            "type": "carpet"
           }
          ],
          "choropleth": [
           {
            "colorbar": {
             "outlinewidth": 0,
             "ticks": ""
            },
            "type": "choropleth"
           }
          ],
          "contour": [
           {
            "colorbar": {
             "outlinewidth": 0,
             "ticks": ""
            },
            "colorscale": [
             [
              0,
              "#0d0887"
             ],
             [
              0.1111111111111111,
              "#46039f"
             ],
             [
              0.2222222222222222,
              "#7201a8"
             ],
             [
              0.3333333333333333,
              "#9c179e"
             ],
             [
              0.4444444444444444,
              "#bd3786"
             ],
             [
              0.5555555555555556,
              "#d8576b"
             ],
             [
              0.6666666666666666,
              "#ed7953"
             ],
             [
              0.7777777777777778,
              "#fb9f3a"
             ],
             [
              0.8888888888888888,
              "#fdca26"
             ],
             [
              1,
              "#f0f921"
             ]
            ],
            "type": "contour"
           }
          ],
          "contourcarpet": [
           {
            "colorbar": {
             "outlinewidth": 0,
             "ticks": ""
            },
            "type": "contourcarpet"
           }
          ],
          "heatmap": [
           {
            "colorbar": {
             "outlinewidth": 0,
             "ticks": ""
            },
            "colorscale": [
             [
              0,
              "#0d0887"
             ],
             [
              0.1111111111111111,
              "#46039f"
             ],
             [
              0.2222222222222222,
              "#7201a8"
             ],
             [
              0.3333333333333333,
              "#9c179e"
             ],
             [
              0.4444444444444444,
              "#bd3786"
             ],
             [
              0.5555555555555556,
              "#d8576b"
             ],
             [
              0.6666666666666666,
              "#ed7953"
             ],
             [
              0.7777777777777778,
              "#fb9f3a"
             ],
             [
              0.8888888888888888,
              "#fdca26"
             ],
             [
              1,
              "#f0f921"
             ]
            ],
            "type": "heatmap"
           }
          ],
          "heatmapgl": [
           {
            "colorbar": {
             "outlinewidth": 0,
             "ticks": ""
            },
            "colorscale": [
             [
              0,
              "#0d0887"
             ],
             [
              0.1111111111111111,
              "#46039f"
             ],
             [
              0.2222222222222222,
              "#7201a8"
             ],
             [
              0.3333333333333333,
              "#9c179e"
             ],
             [
              0.4444444444444444,
              "#bd3786"
             ],
             [
              0.5555555555555556,
              "#d8576b"
             ],
             [
              0.6666666666666666,
              "#ed7953"
             ],
             [
              0.7777777777777778,
              "#fb9f3a"
             ],
             [
              0.8888888888888888,
              "#fdca26"
             ],
             [
              1,
              "#f0f921"
             ]
            ],
            "type": "heatmapgl"
           }
          ],
          "histogram": [
           {
            "marker": {
             "pattern": {
              "fillmode": "overlay",
              "size": 10,
              "solidity": 0.2
             }
            },
            "type": "histogram"
           }
          ],
          "histogram2d": [
           {
            "colorbar": {
             "outlinewidth": 0,
             "ticks": ""
            },
            "colorscale": [
             [
              0,
              "#0d0887"
             ],
             [
              0.1111111111111111,
              "#46039f"
             ],
             [
              0.2222222222222222,
              "#7201a8"
             ],
             [
              0.3333333333333333,
              "#9c179e"
             ],
             [
              0.4444444444444444,
              "#bd3786"
             ],
             [
              0.5555555555555556,
              "#d8576b"
             ],
             [
              0.6666666666666666,
              "#ed7953"
             ],
             [
              0.7777777777777778,
              "#fb9f3a"
             ],
             [
              0.8888888888888888,
              "#fdca26"
             ],
             [
              1,
              "#f0f921"
             ]
            ],
            "type": "histogram2d"
           }
          ],
          "histogram2dcontour": [
           {
            "colorbar": {
             "outlinewidth": 0,
             "ticks": ""
            },
            "colorscale": [
             [
              0,
              "#0d0887"
             ],
             [
              0.1111111111111111,
              "#46039f"
             ],
             [
              0.2222222222222222,
              "#7201a8"
             ],
             [
              0.3333333333333333,
              "#9c179e"
             ],
             [
              0.4444444444444444,
              "#bd3786"
             ],
             [
              0.5555555555555556,
              "#d8576b"
             ],
             [
              0.6666666666666666,
              "#ed7953"
             ],
             [
              0.7777777777777778,
              "#fb9f3a"
             ],
             [
              0.8888888888888888,
              "#fdca26"
             ],
             [
              1,
              "#f0f921"
             ]
            ],
            "type": "histogram2dcontour"
           }
          ],
          "mesh3d": [
           {
            "colorbar": {
             "outlinewidth": 0,
             "ticks": ""
            },
            "type": "mesh3d"
           }
          ],
          "parcoords": [
           {
            "line": {
             "colorbar": {
              "outlinewidth": 0,
              "ticks": ""
             }
            },
            "type": "parcoords"
           }
          ],
          "pie": [
           {
            "automargin": true,
            "type": "pie"
           }
          ],
          "scatter": [
           {
            "fillpattern": {
             "fillmode": "overlay",
             "size": 10,
             "solidity": 0.2
            },
            "type": "scatter"
           }
          ],
          "scatter3d": [
           {
            "line": {
             "colorbar": {
              "outlinewidth": 0,
              "ticks": ""
             }
            },
            "marker": {
             "colorbar": {
              "outlinewidth": 0,
              "ticks": ""
             }
            },
            "type": "scatter3d"
           }
          ],
          "scattercarpet": [
           {
            "marker": {
             "colorbar": {
              "outlinewidth": 0,
              "ticks": ""
             }
            },
            "type": "scattercarpet"
           }
          ],
          "scattergeo": [
           {
            "marker": {
             "colorbar": {
              "outlinewidth": 0,
              "ticks": ""
             }
            },
            "type": "scattergeo"
           }
          ],
          "scattergl": [
           {
            "marker": {
             "colorbar": {
              "outlinewidth": 0,
              "ticks": ""
             }
            },
            "type": "scattergl"
           }
          ],
          "scattermapbox": [
           {
            "marker": {
             "colorbar": {
              "outlinewidth": 0,
              "ticks": ""
             }
            },
            "type": "scattermapbox"
           }
          ],
          "scatterpolar": [
           {
            "marker": {
             "colorbar": {
              "outlinewidth": 0,
              "ticks": ""
             }
            },
            "type": "scatterpolar"
           }
          ],
          "scatterpolargl": [
           {
            "marker": {
             "colorbar": {
              "outlinewidth": 0,
              "ticks": ""
             }
            },
            "type": "scatterpolargl"
           }
          ],
          "scatterternary": [
           {
            "marker": {
             "colorbar": {
              "outlinewidth": 0,
              "ticks": ""
             }
            },
            "type": "scatterternary"
           }
          ],
          "surface": [
           {
            "colorbar": {
             "outlinewidth": 0,
             "ticks": ""
            },
            "colorscale": [
             [
              0,
              "#0d0887"
             ],
             [
              0.1111111111111111,
              "#46039f"
             ],
             [
              0.2222222222222222,
              "#7201a8"
             ],
             [
              0.3333333333333333,
              "#9c179e"
             ],
             [
              0.4444444444444444,
              "#bd3786"
             ],
             [
              0.5555555555555556,
              "#d8576b"
             ],
             [
              0.6666666666666666,
              "#ed7953"
             ],
             [
              0.7777777777777778,
              "#fb9f3a"
             ],
             [
              0.8888888888888888,
              "#fdca26"
             ],
             [
              1,
              "#f0f921"
             ]
            ],
            "type": "surface"
           }
          ],
          "table": [
           {
            "cells": {
             "fill": {
              "color": "#EBF0F8"
             },
             "line": {
              "color": "white"
             }
            },
            "header": {
             "fill": {
              "color": "#C8D4E3"
             },
             "line": {
              "color": "white"
             }
            },
            "type": "table"
           }
          ]
         },
         "layout": {
          "annotationdefaults": {
           "arrowcolor": "#2a3f5f",
           "arrowhead": 0,
           "arrowwidth": 1
          },
          "autotypenumbers": "strict",
          "coloraxis": {
           "colorbar": {
            "outlinewidth": 0,
            "ticks": ""
           }
          },
          "colorscale": {
           "diverging": [
            [
             0,
             "#8e0152"
            ],
            [
             0.1,
             "#c51b7d"
            ],
            [
             0.2,
             "#de77ae"
            ],
            [
             0.3,
             "#f1b6da"
            ],
            [
             0.4,
             "#fde0ef"
            ],
            [
             0.5,
             "#f7f7f7"
            ],
            [
             0.6,
             "#e6f5d0"
            ],
            [
             0.7,
             "#b8e186"
            ],
            [
             0.8,
             "#7fbc41"
            ],
            [
             0.9,
             "#4d9221"
            ],
            [
             1,
             "#276419"
            ]
           ],
           "sequential": [
            [
             0,
             "#0d0887"
            ],
            [
             0.1111111111111111,
             "#46039f"
            ],
            [
             0.2222222222222222,
             "#7201a8"
            ],
            [
             0.3333333333333333,
             "#9c179e"
            ],
            [
             0.4444444444444444,
             "#bd3786"
            ],
            [
             0.5555555555555556,
             "#d8576b"
            ],
            [
             0.6666666666666666,
             "#ed7953"
            ],
            [
             0.7777777777777778,
             "#fb9f3a"
            ],
            [
             0.8888888888888888,
             "#fdca26"
            ],
            [
             1,
             "#f0f921"
            ]
           ],
           "sequentialminus": [
            [
             0,
             "#0d0887"
            ],
            [
             0.1111111111111111,
             "#46039f"
            ],
            [
             0.2222222222222222,
             "#7201a8"
            ],
            [
             0.3333333333333333,
             "#9c179e"
            ],
            [
             0.4444444444444444,
             "#bd3786"
            ],
            [
             0.5555555555555556,
             "#d8576b"
            ],
            [
             0.6666666666666666,
             "#ed7953"
            ],
            [
             0.7777777777777778,
             "#fb9f3a"
            ],
            [
             0.8888888888888888,
             "#fdca26"
            ],
            [
             1,
             "#f0f921"
            ]
           ]
          },
          "colorway": [
           "#636efa",
           "#EF553B",
           "#00cc96",
           "#ab63fa",
           "#FFA15A",
           "#19d3f3",
           "#FF6692",
           "#B6E880",
           "#FF97FF",
           "#FECB52"
          ],
          "font": {
           "color": "#2a3f5f"
          },
          "geo": {
           "bgcolor": "white",
           "lakecolor": "white",
           "landcolor": "#E5ECF6",
           "showlakes": true,
           "showland": true,
           "subunitcolor": "white"
          },
          "hoverlabel": {
           "align": "left"
          },
          "hovermode": "closest",
          "mapbox": {
           "style": "light"
          },
          "paper_bgcolor": "white",
          "plot_bgcolor": "#E5ECF6",
          "polar": {
           "angularaxis": {
            "gridcolor": "white",
            "linecolor": "white",
            "ticks": ""
           },
           "bgcolor": "#E5ECF6",
           "radialaxis": {
            "gridcolor": "white",
            "linecolor": "white",
            "ticks": ""
           }
          },
          "scene": {
           "xaxis": {
            "backgroundcolor": "#E5ECF6",
            "gridcolor": "white",
            "gridwidth": 2,
            "linecolor": "white",
            "showbackground": true,
            "ticks": "",
            "zerolinecolor": "white"
           },
           "yaxis": {
            "backgroundcolor": "#E5ECF6",
            "gridcolor": "white",
            "gridwidth": 2,
            "linecolor": "white",
            "showbackground": true,
            "ticks": "",
            "zerolinecolor": "white"
           },
           "zaxis": {
            "backgroundcolor": "#E5ECF6",
            "gridcolor": "white",
            "gridwidth": 2,
            "linecolor": "white",
            "showbackground": true,
            "ticks": "",
            "zerolinecolor": "white"
           }
          },
          "shapedefaults": {
           "line": {
            "color": "#2a3f5f"
           }
          },
          "ternary": {
           "aaxis": {
            "gridcolor": "white",
            "linecolor": "white",
            "ticks": ""
           },
           "baxis": {
            "gridcolor": "white",
            "linecolor": "white",
            "ticks": ""
           },
           "bgcolor": "#E5ECF6",
           "caxis": {
            "gridcolor": "white",
            "linecolor": "white",
            "ticks": ""
           }
          },
          "title": {
           "x": 0.05
          },
          "xaxis": {
           "automargin": true,
           "gridcolor": "white",
           "linecolor": "white",
           "ticks": "",
           "title": {
            "standoff": 15
           },
           "zerolinecolor": "white",
           "zerolinewidth": 2
          },
          "yaxis": {
           "automargin": true,
           "gridcolor": "white",
           "linecolor": "white",
           "ticks": "",
           "title": {
            "standoff": 15
           },
           "zerolinecolor": "white",
           "zerolinewidth": 2
          }
         }
        },
        "title": {
         "text": "Regression line of price vs carat"
        },
        "xaxis": {
         "title": {
          "text": "Carat"
         }
        },
        "yaxis": {
         "title": {
          "text": "Price"
         }
        }
       }
      }
     },
     "metadata": {},
     "output_type": "display_data"
    }
   ],
   "source": [
    "import plotly.graph_objects as go\n",
    "\n",
    "model = smf.ols(formula=\"price ~ carat\", data=df).fit()\n",
    "\n",
    "df['fitted'] = model.fittedvalues\n",
    "\n",
    "fig = go.Figure()\n",
    "\n",
    "fig.add_trace(go.Scatter(\n",
    "    x=df[\"carat\"], y=df[\"price\"], name=\"Price vs Carat\", mode=\"markers\"))\n",
    "fig.add_trace(go.Scatter(\n",
    "    x=df[\"carat\"], y=df[\"fitted\"], name=\"Fitted Regression Line\"))\n",
    "fig.update_layout(title=\"Regression line of price vs carat\", xaxis_title=\"Carat\",\n",
    "    yaxis_title=\"Price\")\n",
    "fig.show()"
   ]
  }
 ],
 "metadata": {
  "kernelspec": {
   "display_name": "Python 3",
   "language": "python",
   "name": "python3"
  },
  "language_info": {
   "codemirror_mode": {
    "name": "ipython",
    "version": 3
   },
   "file_extension": ".py",
   "mimetype": "text/x-python",
   "name": "python",
   "nbconvert_exporter": "python",
   "pygments_lexer": "ipython3",
   "version": "3.10.4"
  }
 },
 "nbformat": 4,
 "nbformat_minor": 2
}
